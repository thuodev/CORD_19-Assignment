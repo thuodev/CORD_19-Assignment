{
 "cells": [
  {
   "cell_type": "code",
   "execution_count": null,
   "id": "d55caa9c-f2fa-4a00-8f3d-35b1853bcbaa",
   "metadata": {},
   "outputs": [],
   "source": [
    "import pandas as pd\n",
    "\n",
    "# Load CSV (full file)\n",
    "df = pd.read_csv(\"../data/metadata.csv\", low_memory=False)\n",
    "\n",
    "print(\"Shape:\", df.shape)\n",
    "df.head()\n"
   ]
  },
  {
   "cell_type": "code",
   "execution_count": null,
   "id": "d063beed-81fb-4811-8261-3326b43b2612",
   "metadata": {},
   "outputs": [],
   "source": [
    "# Info about columns & data types\n",
    "df.info()\n",
    "\n",
    "# List of columns\n",
    "print(df.columns.tolist())\n",
    "\n",
    "# Missing values (top 30)\n",
    "missing = df.isnull().sum().sort_values(ascending=False)\n",
    "missing.head(30)\n"
   ]
  },
  {
   "cell_type": "code",
   "execution_count": null,
   "id": "3b4b0922-489d-425a-93ac-14635d93f49e",
   "metadata": {},
   "outputs": [],
   "source": []
  }
 ],
 "metadata": {
  "kernelspec": {
   "display_name": "Python 3 (ipykernel)",
   "language": "python",
   "name": "python3"
  },
  "language_info": {
   "codemirror_mode": {
    "name": "ipython",
    "version": 3
   },
   "file_extension": ".py",
   "mimetype": "text/x-python",
   "name": "python",
   "nbconvert_exporter": "python",
   "pygments_lexer": "ipython3",
   "version": "3.11.9"
  }
 },
 "nbformat": 4,
 "nbformat_minor": 5
}
